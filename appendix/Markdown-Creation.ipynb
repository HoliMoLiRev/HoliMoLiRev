{
 "cells": [
  {
   "cell_type": "markdown",
   "metadata": {},
   "source": [
    "# Creating Markdown Files"
   ]
  },
  {
   "cell_type": "code",
   "execution_count": 1,
   "metadata": {},
   "outputs": [],
   "source": [
    "import glob\n",
    "import pandas as pd"
   ]
  },
  {
   "cell_type": "code",
   "execution_count": 3,
   "metadata": {},
   "outputs": [],
   "source": [
    "files = glob.glob(\"*.csv\")"
   ]
  },
  {
   "cell_type": "code",
   "execution_count": 64,
   "metadata": {},
   "outputs": [
    {
     "name": "stdout",
     "output_type": "stream",
     "text": [
      "question_answering_advantages_digital_twin.csv\n"
     ]
    },
    {
     "data": {
      "text/plain": [
       "\"What are advantages of a 'Digital Twin'?\""
      ]
     },
     "metadata": {},
     "output_type": "display_data"
    },
    {
     "name": "stdout",
     "output_type": "stream",
     "text": [
      "question_answering_applications_digital_twin.csv\n"
     ]
    },
    {
     "data": {
      "text/plain": [
       "\"What are applications of a 'Digital Twin'?\""
      ]
     },
     "metadata": {},
     "output_type": "display_data"
    },
    {
     "name": "stdout",
     "output_type": "stream",
     "text": [
      "question_answering_challenges_digital_twin.csv\n"
     ]
    },
    {
     "data": {
      "text/plain": [
       "\"What are challenges of a 'Digital Twin'?\""
      ]
     },
     "metadata": {},
     "output_type": "display_data"
    },
    {
     "name": "stdout",
     "output_type": "stream",
     "text": [
      "question_answering_characteristics_digital_twin.csv\n"
     ]
    },
    {
     "data": {
      "text/plain": [
       "\"What are characteristics of a 'Digital Twin'?\""
      ]
     },
     "metadata": {},
     "output_type": "display_data"
    },
    {
     "name": "stdout",
     "output_type": "stream",
     "text": [
      "question_answering_definitions_digital_twin.csv\n"
     ]
    },
    {
     "data": {
      "text/plain": [
       "\"What is the definition of a 'Digital Twin'?\""
      ]
     },
     "metadata": {},
     "output_type": "display_data"
    },
    {
     "name": "stdout",
     "output_type": "stream",
     "text": [
      "question_answering_dimensions_digital_twin.csv\n"
     ]
    },
    {
     "data": {
      "text/plain": [
       "\"What are dimensions of a 'Digital Twin'?\""
      ]
     },
     "metadata": {},
     "output_type": "display_data"
    },
    {
     "name": "stdout",
     "output_type": "stream",
     "text": [
      "question_answering_disadvantages_digital_twin.csv\n"
     ]
    },
    {
     "data": {
      "text/plain": [
       "\"What are disadvantages of a 'Digital Twin'?\""
      ]
     },
     "metadata": {},
     "output_type": "display_data"
    },
    {
     "name": "stdout",
     "output_type": "stream",
     "text": [
      "question_answering_recommendations_digital_twin.csv\n"
     ]
    },
    {
     "data": {
      "text/plain": [
       "\"What are recommendations for future research related to 'Digital Twins'?\""
      ]
     },
     "metadata": {},
     "output_type": "display_data"
    },
    {
     "name": "stdout",
     "output_type": "stream",
     "text": [
      "question_answering_trends_digital_twin.csv\n"
     ]
    },
    {
     "data": {
      "text/plain": [
       "\"What are trends in the domain of 'Digital Twin'?\""
      ]
     },
     "metadata": {},
     "output_type": "display_data"
    },
    {
     "name": "stdout",
     "output_type": "stream",
     "text": [
      "text_summarization_output.csv\n"
     ]
    },
    {
     "data": {
      "text/plain": [
       "'7PZIFQPX'"
      ]
     },
     "metadata": {},
     "output_type": "display_data"
    },
    {
     "name": "stdout",
     "output_type": "stream",
     "text": [
      "SUMMARIZATION\n"
     ]
    }
   ],
   "source": [
    "from IPython.display import display, Markdown\n",
    "\n",
    "overview = '# Question Answering and Summarization\\n\\n'\n",
    "overview += \"[Home](../README.md)\\n\\n\"\n",
    "overview += \"Demonstration of question answering and summarization carried out with HoliMoLiRev based on publications of the [Digital Twin](https://en.wikipedia.org/wiki/Digital_twin) domain.\\n\\n\"\n",
    "\n",
    "for file in files:\n",
    "    print(file)\n",
    "    df = pd.read_csv(file,sep=';')\n",
    "    \n",
    "    try:\n",
    "        question = df.iloc[0,0]\n",
    "        display(question)\n",
    "\n",
    "        del df['question']\n",
    "        del df['key']\n",
    "\n",
    "        #display(Markdown(df.to_markdown()))\n",
    "        md_file = file[:-3]+\"md\"\n",
    "        with open(md_file, 'w',encoding='utf-8') as file_out:\n",
    "            file_out.write(f\"# {question}\\nOrderd by score.\\n\\nBack to [overview](qa-and-summarization.md).\\n\\n{df.to_markdown()}\\n\")\n",
    "\n",
    "\n",
    "        overview += \"## \" + question + \"\\n\\n\"\n",
    "        overview += f\"[Complete List]({md_file})\\n\\n\"\n",
    "        overview += \"Top 10 by score:\\n\\n\"\n",
    "        overview += df.head(10).to_markdown() + \"\\n\\n\"\n",
    "    except:\n",
    "        print(\"SUMMARIZATION\")\n",
    "        df.columns = ['key','Summarization','Publication']\n",
    "        del df['key']\n",
    "                 \n",
    "        overview += \"## Example Summary \\n\\n\"\n",
    "        overview += \"### Summary of Publication\\n\\nBased on complete Paper.\\n\\n\"\n",
    "        overview += \"> \" + df.iloc[1,0].replace(\"<pad> \",'').replace(\"</s>\",'') + \"\\n\\n\"\n",
    "        overview += \"### Abstract of Publication\\n\\n\"\n",
    "        overview += \"> \" + df.iloc[0,1].split('\\n')[8] + '\\n\\n'\n",
    "\n",
    "    \n",
    "with open(\"qa-and-summarization.md\",'w',encoding='utf-8') as file_out:\n",
    "    file_out.write(overview)"
   ]
  }
 ],
 "metadata": {
  "kernelspec": {
   "display_name": "Python 3",
   "language": "python",
   "name": "python3"
  },
  "language_info": {
   "codemirror_mode": {
    "name": "ipython",
    "version": 3
   },
   "file_extension": ".py",
   "mimetype": "text/x-python",
   "name": "python",
   "nbconvert_exporter": "python",
   "pygments_lexer": "ipython3",
   "version": "3.8.5"
  }
 },
 "nbformat": 4,
 "nbformat_minor": 4
}
